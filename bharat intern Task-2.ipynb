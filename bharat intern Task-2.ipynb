{
 "cells": [
  {
   "cell_type": "markdown",
   "id": "015413bb",
   "metadata": {},
   "source": [
    "# AUTO CORRECT TOOL-TASK:2"
   ]
  },
  {
   "cell_type": "code",
   "execution_count": null,
   "id": "65fb8c16",
   "metadata": {},
   "outputs": [],
   "source": [
    "''' IN THIS TOOL IT TELLS THE CORRECT WORD WHEN A WRONG WORD IS GIVEN AND CHECKS THE WORD IN THE DATA SET'''"
   ]
  },
  {
   "cell_type": "code",
   "execution_count": 1,
   "id": "493d978a",
   "metadata": {},
   "outputs": [
    {
     "name": "stdout",
     "output_type": "stream",
     "text": [
      "Requirement already satisfied: numpy in c:\\users\\sakin\\appdata\\local\\programs\\python\\python311\\lib\\site-packages (1.24.2)\n",
      "Requirement already satisfied: python-Levenshtein in c:\\users\\sakin\\appdata\\local\\programs\\python\\python311\\lib\\site-packages (0.21.1)\n",
      "Requirement already satisfied: Levenshtein==0.21.1 in c:\\users\\sakin\\appdata\\local\\programs\\python\\python311\\lib\\site-packages (from python-Levenshtein) (0.21.1)\n",
      "Requirement already satisfied: rapidfuzz<4.0.0,>=2.3.0 in c:\\users\\sakin\\appdata\\local\\programs\\python\\python311\\lib\\site-packages (from Levenshtein==0.21.1->python-Levenshtein) (3.1.1)\n"
     ]
    }
   ],
   "source": [
    "!pip install numpy\n",
    "!pip install python-Levenshtein"
   ]
  },
  {
   "cell_type": "code",
   "execution_count": 2,
   "id": "9df28399",
   "metadata": {},
   "outputs": [],
   "source": [
    "with open('dictionary.txt', 'r') as f:\n",
    "    dictionary = [word.strip() for word in f]"
   ]
  },
  {
   "cell_type": "code",
   "execution_count": 3,
   "id": "ed8124b4",
   "metadata": {},
   "outputs": [],
   "source": [
    "import numpy as np\n",
    "import Levenshtein\n",
    "\n",
    "def autocorrect(input_word, dictionary):\n",
    "    distances = np.array([Levenshtein.distance(input_word, word) for word in dictionary])\n",
    "    min_distance_idx = np.argmin(distances)\n",
    "    return dictionary[min_distance_idx]\n"
   ]
  },
  {
   "cell_type": "code",
   "execution_count": 4,
   "id": "1dedb26b",
   "metadata": {},
   "outputs": [
    {
     "name": "stdout",
     "output_type": "stream",
     "text": [
      "Enter a word: baratinter\n",
      "Did you mean: bharatintern?\n"
     ]
    }
   ],
   "source": [
    "user_input = input(\"Enter a word: \")\n",
    "corrected_word = autocorrect(user_input, dictionary)\n",
    "print(f\"Did you mean: {corrected_word}?\")\n"
   ]
  },
  {
   "cell_type": "code",
   "execution_count": null,
   "id": "b8521600",
   "metadata": {},
   "outputs": [],
   "source": []
  }
 ],
 "metadata": {
  "kernelspec": {
   "display_name": "Python 3 (ipykernel)",
   "language": "python",
   "name": "python3"
  },
  "language_info": {
   "codemirror_mode": {
    "name": "ipython",
    "version": 3
   },
   "file_extension": ".py",
   "mimetype": "text/x-python",
   "name": "python",
   "nbconvert_exporter": "python",
   "pygments_lexer": "ipython3",
   "version": "3.11.2"
  }
 },
 "nbformat": 4,
 "nbformat_minor": 5
}
