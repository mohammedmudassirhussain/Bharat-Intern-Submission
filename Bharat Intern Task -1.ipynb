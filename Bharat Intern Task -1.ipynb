{
 "cells": [
  {
   "cell_type": "markdown",
   "id": "8988a495",
   "metadata": {},
   "source": [
    "# RESUME PARSER TASK:1"
   ]
  },
  {
   "cell_type": "code",
   "execution_count": null,
   "id": "3e8c45a5",
   "metadata": {},
   "outputs": [],
   "source": [
    "'''I have use nltk librarie Natural language tool kit with this i had created a resume parser'''"
   ]
  },
  {
   "cell_type": "code",
   "execution_count": 1,
   "id": "249aa7ca",
   "metadata": {
    "scrolled": true
   },
   "outputs": [
    {
     "name": "stdout",
     "output_type": "stream",
     "text": [
      "Requirement already satisfied: nltk in c:\\users\\sakin\\appdata\\local\\programs\\python\\python311\\lib\\site-packages (3.8.1)\n",
      "Requirement already satisfied: click in c:\\users\\sakin\\appdata\\local\\programs\\python\\python311\\lib\\site-packages (from nltk) (8.1.3)\n",
      "Requirement already satisfied: joblib in c:\\users\\sakin\\appdata\\local\\programs\\python\\python311\\lib\\site-packages (from nltk) (1.3.1)\n",
      "Requirement already satisfied: regex>=2021.8.3 in c:\\users\\sakin\\appdata\\local\\programs\\python\\python311\\lib\\site-packages (from nltk) (2023.6.3)\n",
      "Requirement already satisfied: tqdm in c:\\users\\sakin\\appdata\\local\\programs\\python\\python311\\lib\\site-packages (from nltk) (4.65.0)\n",
      "Requirement already satisfied: colorama in c:\\users\\sakin\\appdata\\local\\programs\\python\\python311\\lib\\site-packages (from click->nltk) (0.4.6)\n"
     ]
    }
   ],
   "source": [
    "! pip install nltk"
   ]
  },
  {
   "cell_type": "code",
   "execution_count": 2,
   "id": "a80d5fcf",
   "metadata": {},
   "outputs": [
    {
     "name": "stderr",
     "output_type": "stream",
     "text": [
      "[nltk_data] Downloading package punkt to\n",
      "[nltk_data]     C:\\Users\\sakin\\AppData\\Roaming\\nltk_data...\n",
      "[nltk_data]   Package punkt is already up-to-date!\n",
      "[nltk_data] Downloading package stopwords to\n",
      "[nltk_data]     C:\\Users\\sakin\\AppData\\Roaming\\nltk_data...\n",
      "[nltk_data]   Package stopwords is already up-to-date!\n"
     ]
    },
    {
     "data": {
      "text/plain": [
       "True"
      ]
     },
     "execution_count": 2,
     "metadata": {},
     "output_type": "execute_result"
    }
   ],
   "source": [
    "import nltk\n",
    "from nltk.corpus import stopwords\n",
    "\n",
    "nltk.download('punkt')\n",
    "\n",
    "nltk.download('stopwords')\n"
   ]
  },
  {
   "cell_type": "code",
   "execution_count": 3,
   "id": "16db107d",
   "metadata": {},
   "outputs": [],
   "source": [
    "def parse_resume(resume_text, keywords):\n",
    "    # Tokenize the resume text\n",
    "    tokens = nltk.word_tokenize(resume_text)\n",
    "\n",
    "    # Remove stopwords from the tokens\n",
    "    stop_words = set(stopwords.words('english'))\n",
    "    filtered_tokens = [token for token in tokens if token.lower() not in stop_words]\n",
    "\n",
    "    # Find the keywords present in the resume\n",
    "    matched_keywords = [keyword for keyword in keywords if keyword.lower() in [token.lower() for token in filtered_tokens]]\n",
    "\n",
    "    return matched_keywords\n"
   ]
  },
  {
   "cell_type": "code",
   "execution_count": 4,
   "id": "c2ff7fe0",
   "metadata": {},
   "outputs": [],
   "source": [
    "resume_text = '''\n",
    "I am an experienced softwarengineer skilled in Python, Java, and webdevelopment. I have a strong background in machinelearning and natural language processing. I have worked on various projects involving data analysis, text classification, and information retrieval. I am passionate about solving complex problems and creating efficient and scalable solutions.\n",
    "'''\n",
    "keywords = ['softwareengineer', 'Python', 'machinelearning', 'webdevelopment']\n"
   ]
  },
  {
   "cell_type": "code",
   "execution_count": 5,
   "id": "ba12c098",
   "metadata": {},
   "outputs": [
    {
     "name": "stdout",
     "output_type": "stream",
     "text": [
      "Candidate is suitable for the job. Matched keywords:\n",
      "Python\n",
      "machinelearning\n",
      "webdevelopment\n"
     ]
    }
   ],
   "source": [
    "matched_keywords = parse_resume(resume_text, keywords)\n",
    "\n",
    "if matched_keywords:\n",
    "    print(\"Candidate is suitable for the job. Matched keywords:\")\n",
    "    for keyword in matched_keywords:\n",
    "        print(keyword)\n",
    "else:\n",
    "    print(\"Candidate does not meet the job requirements.\")\n"
   ]
  },
  {
   "cell_type": "code",
   "execution_count": null,
   "id": "7b57448e",
   "metadata": {},
   "outputs": [],
   "source": []
  },
  {
   "cell_type": "code",
   "execution_count": null,
   "id": "d693193e",
   "metadata": {},
   "outputs": [],
   "source": []
  }
 ],
 "metadata": {
  "kernelspec": {
   "display_name": "Python 3 (ipykernel)",
   "language": "python",
   "name": "python3"
  },
  "language_info": {
   "codemirror_mode": {
    "name": "ipython",
    "version": 3
   },
   "file_extension": ".py",
   "mimetype": "text/x-python",
   "name": "python",
   "nbconvert_exporter": "python",
   "pygments_lexer": "ipython3",
   "version": "3.11.2"
  }
 },
 "nbformat": 4,
 "nbformat_minor": 5
}
